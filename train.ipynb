{
 "cells": [
  {
   "cell_type": "code",
   "execution_count": 3,
   "id": "12648da0-720c-43fa-8110-310b21e5d8b9",
   "metadata": {
    "tags": []
   },
   "outputs": [
    {
     "name": "stdout",
     "output_type": "stream",
     "text": [
      "Sun Jun  4 14:51:18 2023       \n",
      "+---------------------------------------------------------------------------------------+\n",
      "| NVIDIA-SMI 530.30.02              Driver Version: 531.61       CUDA Version: 12.1     |\n",
      "|-----------------------------------------+----------------------+----------------------+\n",
      "| GPU  Name                  Persistence-M| Bus-Id        Disp.A | Volatile Uncorr. ECC |\n",
      "| Fan  Temp  Perf            Pwr:Usage/Cap|         Memory-Usage | GPU-Util  Compute M. |\n",
      "|                                         |                      |               MIG M. |\n",
      "|=========================================+======================+======================|\n",
      "|   0  NVIDIA GeForce RTX 4070         On | 00000000:01:00.0  On |                  N/A |\n",
      "|  0%   49C    P5               15W / 200W|   5798MiB / 12282MiB |     33%      Default |\n",
      "|                                         |                      |                  N/A |\n",
      "+-----------------------------------------+----------------------+----------------------+\n",
      "                                                                                         \n",
      "+---------------------------------------------------------------------------------------+\n",
      "| Processes:                                                                            |\n",
      "|  GPU   GI   CI        PID   Type   Process name                            GPU Memory |\n",
      "|        ID   ID                                                             Usage      |\n",
      "|=======================================================================================|\n",
      "|    0   N/A  N/A        17      G   /Xwayland                                 N/A      |\n",
      "|    0   N/A  N/A        21      G   /Xwayland                                 N/A      |\n",
      "|    0   N/A  N/A       130      C   /python3.9                                N/A      |\n",
      "+---------------------------------------------------------------------------------------+\n",
      "fatal: destination path 'threestudio' already exists and is not an empty directory.\n"
     ]
    }
   ],
   "source": [
    "!nvidia-smi\n",
    "!git clone --recursive https://github.com/threestudio-project/threestudio.git"
   ]
  },
  {
   "cell_type": "code",
   "execution_count": null,
   "id": "5c91d56d-c755-4d80-93ad-7cc1561f26c8",
   "metadata": {},
   "outputs": [],
   "source": [
    "from google.colab import drive\n",
    "drive.mount('/content/drive')"
   ]
  },
  {
   "cell_type": "code",
   "execution_count": null,
   "id": "af897647-1406-478a-9df6-adaacb475949",
   "metadata": {},
   "outputs": [],
   "source": [
    "import torch\n",
    "import datasets\n",
    "import sys\n",
    "import os\n",
    "import subprocess\n",
    "\n",
    "def load_count(filename):\n",
    "    count = 0\n",
    "    try:\n",
    "        with open(filename, mode='r') as f:\n",
    "            for l in f.readlines():\n",
    "                try:\n",
    "                    count = int(l)\n",
    "                    break\n",
    "                except:\n",
    "                    continue\n",
    "    except:\n",
    "        pass\n",
    "    finally:\n",
    "        return count\n",
    "\n",
    "def save_count(filename, count):\n",
    "    try:\n",
    "        with open(filename, mode='w') as f:\n",
    "            f.write(str(count))\n",
    "    except:\n",
    "        pass\n",
    "    finally:\n",
    "        return\n",
    "\n",
    "prompts = []\n",
    "dataset = datasets.load_dataset(\"FredZhang7/stable-diffusion-prompts-2.47M\")\n",
    "prompts = prompts + dataset['train']['text']\n",
    "\n",
    "dataset = datasets.load_dataset('Gustavosta/Stable-Diffusion-Prompts')\n",
    "prompts = prompts + dataset['train']['Prompt']\n",
    "\n",
    "#dataset = datasets.load_dataset(\"FredZhang7/anime-prompts-180K\")\n",
    "#prompts = prompts + dataset['train']['safebooru_clean']\n",
    "#prompts = prompts + dataset['train']['danbooru_clean']\n",
    "#prompts = prompts + dataset['train']['danbooru_raw']                         \n",
    "\n",
    "dataset = None\n",
    "\n",
    "train_count = load_count('train_count.txt')\n",
    "print(min(len(prompts), train_count))\n",
    "max_train_count = max(len(prompts), train_count)\n",
    "\n",
    "conf_file = os.path.join(os.getcwd(), 'threestudio/configs/prolificdreamer.yaml')\n",
    "print(conf_file)\n",
    "os.chdir('./threestudio')\n",
    "torch.set_float32_matmul_precision('medium')\n",
    "#base_config = ['launch.py','--config', 'configs/prolificdreamer-refine.yaml', '--train', '--gpu', '0', 'data.width=512', 'data.height=512']\n",
    "base_config = ['python3', 'launch.py','--config', conf_file, '--train', '--gpu', '0', 'name=\\\"sheep\\\"','tag=\\\"sheep\\\"','data.width=1', 'data.height=1']\n",
    "#extra_condig = ['trainer.max_steps=10000', 'system.guidance.token_merging=true', 'system.guidance.enable_attention_slicing=true']\n",
    "extra_condig = ['trainer.max_steps=1', 'trainer.max_epochs=1', 'trainer.fast_dev_run=True', 'data.batch_size=1', 'system.guidance.token_merging=true', 'system.guidance.enable_attention_slicing=true']\n",
    "for i in range(0,1):\n",
    "    config = base_config + ['system.prompt_processor.prompt=' + prompts[i]]\n",
    "    print(config)\n",
    "    subprocess.run(config, capture_output=False)\n",
    "    train_count += 1\n",
    "    save_count('train_count.txt', train_count)\n",
    "os.chdir('..')\n"
   ]
  }
 ],
 "metadata": {
  "kernelspec": {
   "display_name": "Python 3 (ipykernel)",
   "language": "python",
   "name": "python3"
  },
  "language_info": {
   "codemirror_mode": {
    "name": "ipython",
    "version": 3
   },
   "file_extension": ".py",
   "mimetype": "text/x-python",
   "name": "python",
   "nbconvert_exporter": "python",
   "pygments_lexer": "ipython3",
   "version": "3.9.2"
  }
 },
 "nbformat": 4,
 "nbformat_minor": 5
}
