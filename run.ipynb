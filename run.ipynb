{
 "cells": [
  {
   "cell_type": "code",
   "execution_count": 11,
   "id": "f482d806-a04f-477b-bb4f-cfe772ddb3ce",
   "metadata": {
    "tags": []
   },
   "outputs": [
    {
     "name": "stdout",
     "output_type": "stream",
     "text": [
      "[]\n",
      "1519810572429282170\n",
      "total 32\n",
      "-rwxrwxrwx 1 root root 1061 Jun  4 14:26 LICENSE\n",
      "-rwxrwxrwx 1 root root   10 Jun  4 14:26 README.md\n",
      "-rw-r--r-- 1 taqu taqu 2345 Jun  4 20:03 run.ipynb\n",
      "drwxr-xr-x 7 taqu taqu 4096 Jun  4 14:51 threestudio\n",
      "-rw-r--r-- 1 taqu taqu  243 Jun  4 15:35 touch.py\n",
      "-rw-r--r-- 1 taqu taqu 6346 Jun  4 14:57 train.ipynb\n",
      "-rw-r--r-- 1 root root 2269 Jun  4 13:58 train.py\n"
     ]
    }
   ],
   "source": [
    "import asyncio\n",
    "import sys\n",
    "import secrets\n",
    "import glob\n",
    "\n",
    "async def run_command(command: str, args: list[str]) -> None:\n",
    "    process = await asyncio.create_subprocess_exec(\n",
    "        command,\n",
    "        *args,\n",
    "        stdout=asyncio.subprocess.PIPE,\n",
    "        stderr=asyncio.subprocess.PIPE)\n",
    "    while True:\n",
    "        if process.stdout.at_eof() and process.stderr.at_eof():\n",
    "            break;\n",
    "        stdout = (await process.stdout.readline()).decode()\n",
    "        if stdout:\n",
    "            print(stdout, end='', flush=True)\n",
    "        stderr = (await process.stderr.readline()).decode()\n",
    "        if stderr:\n",
    "            print(stderr, end='', flush=True, file=sys.stderr)\n",
    "        await asyncio.sleep(1)\n",
    "    await process.communicate()\n",
    "\n",
    "def find_last_checkpoint():\n",
    "    print(glob.glob('./test/*.txt'))\n",
    "find_last_checkpoint()\n",
    "print(secrets.randbits(64))\n",
    "await run_command('ls', ['-l'])\n",
    "\n"
   ]
  },
  {
   "cell_type": "code",
   "execution_count": null,
   "id": "a580c693-d5f1-40eb-8693-aed4ccf9eaf5",
   "metadata": {},
   "outputs": [],
   "source": []
  }
 ],
 "metadata": {
  "kernelspec": {
   "display_name": "Python 3 (ipykernel)",
   "language": "python",
   "name": "python3"
  },
  "language_info": {
   "codemirror_mode": {
    "name": "ipython",
    "version": 3
   },
   "file_extension": ".py",
   "mimetype": "text/x-python",
   "name": "python",
   "nbconvert_exporter": "python",
   "pygments_lexer": "ipython3",
   "version": "3.9.2"
  }
 },
 "nbformat": 4,
 "nbformat_minor": 5
}
